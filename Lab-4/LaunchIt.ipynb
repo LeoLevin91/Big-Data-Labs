{
 "cells": [
  {
   "cell_type": "code",
   "execution_count": 4,
   "id": "e598ffd4",
   "metadata": {},
   "outputs": [
    {
     "name": "stdout",
     "output_type": "stream",
     "text": [
      "Requirement already satisfied: numpy in c:\\python310\\lib\\site-packages (1.21.5)\n"
     ]
    },
    {
     "name": "stderr",
     "output_type": "stream",
     "text": [
      "WARNING: You are using pip version 21.2.3; however, version 21.3.1 is available.\n",
      "You should consider upgrading via the 'C:\\Python310\\python.exe -m pip install --upgrade pip' command.\n"
     ]
    },
    {
     "name": "stdout",
     "output_type": "stream",
     "text": [
      "Collecting kazoo\n",
      "  Downloading kazoo-2.8.0-py2.py3-none-any.whl (142 kB)\n",
      "Requirement already satisfied: six in c:\\python310\\lib\\site-packages (from kazoo) (1.16.0)\n",
      "Installing collected packages: kazoo\n",
      "Successfully installed kazoo-2.8.0\n"
     ]
    },
    {
     "name": "stderr",
     "output_type": "stream",
     "text": [
      "WARNING: You are using pip version 21.2.3; however, version 21.3.1 is available.\n",
      "You should consider upgrading via the 'C:\\Python310\\python.exe -m pip install --upgrade pip' command.\n"
     ]
    }
   ],
   "source": [
    "!pip install numpy\n",
    "!pip install kazoo"
   ]
  },
  {
   "cell_type": "markdown",
   "id": "ea862888",
   "metadata": {},
   "source": [
    "## Launching the philosophers' lunch task"
   ]
  },
  {
   "cell_type": "code",
   "execution_count": 21,
   "id": "e8df9ad6",
   "metadata": {},
   "outputs": [
    {
     "name": "stdout",
     "output_type": "stream",
     "text": [
      "The philosopher 0 thinking.\n",
      "The philosopher 1 thinking.\n",
      "The philosopher 2 thinking.\n",
      "The philosopher 3 thinking.\n",
      "The philosopher 4 thinking.\n",
      "The philosopher 1 eating.\n",
      "The philosopher 4 eating.\n",
      "The philosopher 1 thinking.\n",
      "The philosopher 2 eating.\n",
      "The philosopher 4 thinking.\n",
      "The philosopher 0 eating.\n",
      "The philosopher 4 eating.\n",
      "The philosopher 2 thinking.\n",
      "The philosopher 0 thinking.\n",
      "The philosopher 1 eating.\n",
      "The philosopher 4 thinking.\n",
      "The philosopher 3 eating.\n",
      "The philosopher 1 thinking.\n",
      "The philosopher 0 eating.\n",
      "The philosopher 3 thinking.\n",
      "The philosopher 4 eating.\n",
      "The philosopher 2 eating.\n",
      "The philosopher 0 thinking.\n",
      "The philosopher 4 thinking.\n",
      "The philosopher 2 thinking.\n",
      "The philosopher 0 eating.\n",
      "The philosopher 3 eating.\n",
      "The philosopher 0 thinking.\n",
      "The philosopher 3 thinking.\n",
      "The philosopher 1 eating.\n",
      "The philosopher 4 eating.\n",
      "The philosopher 1 thinking.\n",
      "The philosopher 4 thinking.\n",
      "The philosopher 0 eating.\n",
      "The philosopher 2 eating.\n",
      "The philosopher 4 eating.\n",
      "The philosopher 0 thinking.\n",
      "The philosopher 2 thinking.\n",
      "The philosopher 1 eating.\n",
      "The philosopher 4 thinking.\n",
      "The philosopher 3 eating.\n",
      "The philosopher 1 thinking.\n",
      "The philosopher 0 eating.\n",
      "The philosopher 3 thinking.\n",
      "The philosopher 2 eating.\n",
      "The philosopher 4 eating.\n",
      "The philosopher 0 thinking.\n",
      "The philosopher 2 thinking.\n",
      "The philosopher 4 thinking.\n"
     ]
    }
   ],
   "source": [
    "!python LunchOfPhilosophers.py"
   ]
  },
  {
   "cell_type": "markdown",
   "id": "9ed61e84",
   "metadata": {},
   "source": [
    "## Starting a two-phase commit task"
   ]
  },
  {
   "cell_type": "code",
   "execution_count": 23,
   "id": "0be4d17f",
   "metadata": {},
   "outputs": [
    {
     "name": "stdout",
     "output_type": "stream",
     "text": [
      "Voting №0: My desition... commit\n",
      "Voting №3: My desition... abort\n",
      "Voting №4: My desition... abort\n",
      "Voting №2: My desition... abort\n",
      "Voting №1: My desition... commit\n",
      "Coordinator: Voicing the main decision...\n",
      "Voting №0: Received a response from the coordinator: abort\n",
      "Voting №1: Received a response from the coordinator: abort\n",
      "Voting №2: Received a response from the coordinator: abort\n",
      "Voting №3: Received a response from the coordinator: abort\n",
      "Voting №4: Received a response from the coordinator: abort\n"
     ]
    }
   ],
   "source": [
    "!python TwoPhaseCommit.py"
   ]
  },
  {
   "cell_type": "code",
   "execution_count": null,
   "id": "eaeb14fc",
   "metadata": {},
   "outputs": [],
   "source": []
  }
 ],
 "metadata": {
  "kernelspec": {
   "display_name": "Python 3 (ipykernel)",
   "language": "python",
   "name": "python3"
  },
  "language_info": {
   "codemirror_mode": {
    "name": "ipython",
    "version": 3
   },
   "file_extension": ".py",
   "mimetype": "text/x-python",
   "name": "python",
   "nbconvert_exporter": "python",
   "pygments_lexer": "ipython3",
   "version": "3.10.0"
  }
 },
 "nbformat": 4,
 "nbformat_minor": 5
}
