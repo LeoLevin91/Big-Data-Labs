{
 "cells": [
  {
   "cell_type": "markdown",
   "id": "99dfa420",
   "metadata": {},
   "source": [
    "# Petrov Leonid 6133-010402D. Lab№2"
   ]
  },
  {
   "cell_type": "code",
   "execution_count": 1,
   "id": "c0e43d0f",
   "metadata": {},
   "outputs": [],
   "source": [
    "import findspark\n",
    "findspark.init()"
   ]
  },
  {
   "cell_type": "code",
   "execution_count": 2,
   "id": "e2b7c4c9",
   "metadata": {},
   "outputs": [],
   "source": [
    "from pyspark import SparkContext, SparkConf\n",
    "from datetime import datetime\n",
    "from pyspark.sql.functions import col\n",
    "from pyspark.sql.types import StructType, StructField, StringType, DateType\n",
    "from pyspark.sql import SparkSession"
   ]
  },
  {
   "cell_type": "code",
   "execution_count": 3,
   "id": "50b7139b",
   "metadata": {},
   "outputs": [],
   "source": [
    "import os\n",
    "\n",
    "os.environ['PYSPARK_SUBMIT_ARGS'] = '--packages com.databricks:spark-xml_2.12:0.13.0 pyspark-shell'\n",
    "\n",
    "spark_session = SparkSession\\\n",
    "    .builder\\\n",
    "    .getOrCreate()"
   ]
  },
  {
   "cell_type": "code",
   "execution_count": 4,
   "id": "d191e7b5",
   "metadata": {},
   "outputs": [
    {
     "ename": "ValueError",
     "evalue": "Cannot run multiple SparkContexts at once; existing SparkContext(app=pyspark-shell, master=local[*]) created by getOrCreate at <ipython-input-3-17e21111a080>:5 ",
     "output_type": "error",
     "traceback": [
      "\u001b[0;31m---------------------------------------------------------------------------\u001b[0m",
      "\u001b[0;31mValueError\u001b[0m                                Traceback (most recent call last)",
      "\u001b[0;32m<ipython-input-4-8af1782607de>\u001b[0m in \u001b[0;36m<module>\u001b[0;34m\u001b[0m\n\u001b[1;32m      1\u001b[0m \u001b[0mapp_name\u001b[0m \u001b[0;34m=\u001b[0m \u001b[0;34m\"Lab2_Petrov_6133-010402D\"\u001b[0m\u001b[0;34m\u001b[0m\u001b[0;34m\u001b[0m\u001b[0m\n\u001b[1;32m      2\u001b[0m \u001b[0mconf\u001b[0m \u001b[0;34m=\u001b[0m \u001b[0mSparkConf\u001b[0m\u001b[0;34m(\u001b[0m\u001b[0;34m)\u001b[0m\u001b[0;34m.\u001b[0m\u001b[0msetAppName\u001b[0m\u001b[0;34m(\u001b[0m\u001b[0mapp_name\u001b[0m\u001b[0;34m)\u001b[0m\u001b[0;34m.\u001b[0m\u001b[0msetMaster\u001b[0m\u001b[0;34m(\u001b[0m\u001b[0;34m'local'\u001b[0m\u001b[0;34m)\u001b[0m\u001b[0;34m\u001b[0m\u001b[0;34m\u001b[0m\u001b[0m\n\u001b[0;32m----> 3\u001b[0;31m \u001b[0msc\u001b[0m \u001b[0;34m=\u001b[0m \u001b[0mSparkContext\u001b[0m\u001b[0;34m(\u001b[0m\u001b[0mconf\u001b[0m\u001b[0;34m=\u001b[0m\u001b[0mconf\u001b[0m\u001b[0;34m)\u001b[0m\u001b[0;34m\u001b[0m\u001b[0;34m\u001b[0m\u001b[0m\n\u001b[0m",
      "\u001b[0;32m/usr/local/spark/python/pyspark/context.py\u001b[0m in \u001b[0;36m__init__\u001b[0;34m(self, master, appName, sparkHome, pyFiles, environment, batchSize, serializer, conf, gateway, jsc, profiler_cls)\u001b[0m\n\u001b[1;32m    131\u001b[0m                     \" note this option will be removed in Spark 3.0\")\n\u001b[1;32m    132\u001b[0m \u001b[0;34m\u001b[0m\u001b[0m\n\u001b[0;32m--> 133\u001b[0;31m         \u001b[0mSparkContext\u001b[0m\u001b[0;34m.\u001b[0m\u001b[0m_ensure_initialized\u001b[0m\u001b[0;34m(\u001b[0m\u001b[0mself\u001b[0m\u001b[0;34m,\u001b[0m \u001b[0mgateway\u001b[0m\u001b[0;34m=\u001b[0m\u001b[0mgateway\u001b[0m\u001b[0;34m,\u001b[0m \u001b[0mconf\u001b[0m\u001b[0;34m=\u001b[0m\u001b[0mconf\u001b[0m\u001b[0;34m)\u001b[0m\u001b[0;34m\u001b[0m\u001b[0;34m\u001b[0m\u001b[0m\n\u001b[0m\u001b[1;32m    134\u001b[0m         \u001b[0;32mtry\u001b[0m\u001b[0;34m:\u001b[0m\u001b[0;34m\u001b[0m\u001b[0;34m\u001b[0m\u001b[0m\n\u001b[1;32m    135\u001b[0m             self._do_init(master, appName, sparkHome, pyFiles, environment, batchSize, serializer,\n",
      "\u001b[0;32m/usr/local/spark/python/pyspark/context.py\u001b[0m in \u001b[0;36m_ensure_initialized\u001b[0;34m(cls, instance, gateway, conf)\u001b[0m\n\u001b[1;32m    330\u001b[0m                         \u001b[0;34m\" created by %s at %s:%s \"\u001b[0m\u001b[0;34m\u001b[0m\u001b[0;34m\u001b[0m\u001b[0m\n\u001b[1;32m    331\u001b[0m                         % (currentAppName, currentMaster,\n\u001b[0;32m--> 332\u001b[0;31m                             callsite.function, callsite.file, callsite.linenum))\n\u001b[0m\u001b[1;32m    333\u001b[0m                 \u001b[0;32melse\u001b[0m\u001b[0;34m:\u001b[0m\u001b[0;34m\u001b[0m\u001b[0;34m\u001b[0m\u001b[0m\n\u001b[1;32m    334\u001b[0m                     \u001b[0mSparkContext\u001b[0m\u001b[0;34m.\u001b[0m\u001b[0m_active_spark_context\u001b[0m \u001b[0;34m=\u001b[0m \u001b[0minstance\u001b[0m\u001b[0;34m\u001b[0m\u001b[0;34m\u001b[0m\u001b[0m\n",
      "\u001b[0;31mValueError\u001b[0m: Cannot run multiple SparkContexts at once; existing SparkContext(app=pyspark-shell, master=local[*]) created by getOrCreate at <ipython-input-3-17e21111a080>:5 "
     ]
    }
   ],
   "source": [
    "app_name = \"Lab2_Petrov_6133-010402D\"\n",
    "conf = SparkConf().setAppName(app_name).setMaster('local')\n",
    "sc = SparkContext(conf=conf)"
   ]
  },
  {
   "cell_type": "code",
   "execution_count": 6,
   "id": "e1165e51",
   "metadata": {},
   "outputs": [
    {
     "data": {
      "text/html": [
       "\n",
       "        <div>\n",
       "            <p><b>SparkContext</b></p>\n",
       "\n",
       "            <p><a href=\"http://maprdemo.mapr.io:4040\">Spark UI</a></p>\n",
       "\n",
       "            <dl>\n",
       "              <dt>Version</dt>\n",
       "                <dd><code>v2.4.5.0-mapr-700</code></dd>\n",
       "              <dt>Master</dt>\n",
       "                <dd><code>local[*]</code></dd>\n",
       "              <dt>AppName</dt>\n",
       "                <dd><code>pyspark-shell</code></dd>\n",
       "            </dl>\n",
       "        </div>\n",
       "        "
      ],
      "text/plain": [
       "<SparkContext master=local[*] appName=pyspark-shell>"
      ]
     },
     "execution_count": 6,
     "metadata": {},
     "output_type": "execute_result"
    }
   ],
   "source": [
    "sc = spark_session._sc\n",
    "sc"
   ]
  },
  {
   "cell_type": "code",
   "execution_count": 7,
   "id": "ddf3b277",
   "metadata": {},
   "outputs": [
    {
     "name": "stdout",
     "output_type": "stream",
     "text": [
      "Found 7 items\r\n",
      "-rwxr-xr-x   3 root root       3841 2021-12-14 09:31 /Untitled.ipynb\r\n",
      "drwxr-xr-x   - mapr mapr          5 2021-12-14 08:03 /apps\r\n",
      "drwxr-xr-x   - mapr mapr          0 2021-12-14 08:06 /opt\r\n",
      "-rwxr-xr-x   3 root root         24 2021-12-14 10:51 /test.txt\r\n",
      "drwxrwxrwx   - mapr mapr          0 2021-12-14 07:54 /tmp\r\n",
      "drwxr-xr-x   - mapr mapr          2 2021-12-14 18:01 /user\r\n",
      "drwxr-xr-x   - mapr mapr          1 2021-12-14 07:58 /var\r\n"
     ]
    }
   ],
   "source": [
    "!hadoop fs -ls /"
   ]
  },
  {
   "cell_type": "code",
   "execution_count": 8,
   "id": "5a70ada9",
   "metadata": {},
   "outputs": [
    {
     "data": {
      "text/plain": [
       "['asdfasdfasdfasdfasdfasdf']"
      ]
     },
     "execution_count": 8,
     "metadata": {},
     "output_type": "execute_result"
    }
   ],
   "source": [
    "# hdfs не работает \n",
    "test = sc.textFile(\"/test.txt\")\n",
    "test.take(10)"
   ]
  },
  {
   "cell_type": "code",
   "execution_count": 9,
   "id": "8b57cc45",
   "metadata": {},
   "outputs": [
    {
     "name": "stdout",
     "output_type": "stream",
     "text": [
      "name,wikipedia_url\r\n",
      "A# .NET,https://en.wikipedia.org/wiki/A_Sharp_(.NET)\r\n",
      "A# (Axiom),https://en.wikipedia.org/wiki/A_Sharp_(Axiom)\r\n",
      "A-0 System,https://en.wikipedia.org/wiki/A-0_System\r\n",
      "A+,https://en.wikipedia.org/wiki/A%2B_(programming_language)\r\n",
      "A++,https://en.wikipedia.org/wiki/A%2B%2B\r\n",
      "ABAP,https://en.wikipedia.org/wiki/ABAP\r\n",
      "ABC,https://en.wikipedia.org/wiki/ABC_(programming_language)\r\n",
      "ABC ALGOL,https://en.wikipedia.org/wiki/ABC_ALGOL\r\n",
      "ABSET,https://en.wikipedia.org/wiki/ABSET\r\n"
     ]
    }
   ],
   "source": [
    "!head ./data/programming-languages.csv"
   ]
  },
  {
   "cell_type": "markdown",
   "id": "f3b17ae6",
   "metadata": {},
   "source": [
    "## Задание\n",
    "<p>Сформировать отчёт с информацией о 10 наиболее популярных языках программирования по итогам года за период с 2010 по 2020 годы.</p><br>\n",
    "<p>Получившийся отчёт сохранить в формате Apache Parquet.</p>"
   ]
  },
  {
   "cell_type": "code",
   "execution_count": 10,
   "id": "e958ca22",
   "metadata": {},
   "outputs": [
    {
     "data": {
      "text/plain": [
       "['name,wikipedia_url',\n",
       " 'A# .NET,https://en.wikipedia.org/wiki/A_Sharp_(.NET)',\n",
       " 'A# (Axiom),https://en.wikipedia.org/wiki/A_Sharp_(Axiom)',\n",
       " 'A-0 System,https://en.wikipedia.org/wiki/A-0_System',\n",
       " 'A+,https://en.wikipedia.org/wiki/A%2B_(programming_language)',\n",
       " 'A++,https://en.wikipedia.org/wiki/A%2B%2B',\n",
       " 'ABAP,https://en.wikipedia.org/wiki/ABAP',\n",
       " 'ABC,https://en.wikipedia.org/wiki/ABC_(programming_language)',\n",
       " 'ABC ALGOL,https://en.wikipedia.org/wiki/ABC_ALGOL',\n",
       " 'ABSET,https://en.wikipedia.org/wiki/ABSET']"
      ]
     },
     "execution_count": 10,
     "metadata": {},
     "output_type": "execute_result"
    }
   ],
   "source": [
    "data = sc.textFile(\"file:///home/workspace/data/programming-languages.csv\")\n",
    "data.take(10)"
   ]
  },
  {
   "cell_type": "code",
   "execution_count": 11,
   "id": "f96f6079",
   "metadata": {},
   "outputs": [],
   "source": [
    "sc = spark_session._sc\n",
    "prog_lang_schema = StructType([\n",
    "    StructField(\"name\", StringType(), False),\n",
    "    StructField(\"wikipedia_url\", StringType(), False),\n",
    "])"
   ]
  },
  {
   "cell_type": "code",
   "execution_count": 12,
   "id": "7950fbc9",
   "metadata": {},
   "outputs": [],
   "source": [
    "df_prog_langs = spark_session.read.csv(\"file:///home/workspace/data/programming-languages.csv\", schema=prog_lang_schema)"
   ]
  },
  {
   "cell_type": "code",
   "execution_count": 13,
   "id": "b0006c92",
   "metadata": {},
   "outputs": [
    {
     "data": {
      "text/plain": [
       "[Row(name='name', wikipedia_url='wikipedia_url'),\n",
       " Row(name='A# .NET', wikipedia_url='https://en.wikipedia.org/wiki/A_Sharp_(.NET)'),\n",
       " Row(name='A# (Axiom)', wikipedia_url='https://en.wikipedia.org/wiki/A_Sharp_(Axiom)')]"
      ]
     },
     "execution_count": 13,
     "metadata": {},
     "output_type": "execute_result"
    }
   ],
   "source": [
    "df_prog_langs.head(3)"
   ]
  },
  {
   "cell_type": "code",
   "execution_count": 14,
   "id": "57a2a074",
   "metadata": {},
   "outputs": [],
   "source": [
    "p_l_list = [str(row[0]) for row in df_prog_langs.select('name').collect()]"
   ]
  },
  {
   "cell_type": "code",
   "execution_count": 15,
   "id": "ca312f35",
   "metadata": {},
   "outputs": [
    {
     "data": {
      "text/plain": [
       "['name', 'A# .NET', 'A# (Axiom)', 'A-0 System', 'A+']"
      ]
     },
     "execution_count": 15,
     "metadata": {},
     "output_type": "execute_result"
    }
   ],
   "source": [
    "p_l_list[:5]"
   ]
  },
  {
   "cell_type": "markdown",
   "id": "8507d1d8",
   "metadata": {},
   "source": [
    "## Просмотрим содержимое xml файла"
   ]
  },
  {
   "cell_type": "code",
   "execution_count": 16,
   "id": "d1b57295",
   "metadata": {},
   "outputs": [
    {
     "name": "stdout",
     "output_type": "stream",
     "text": [
      "���<?xml version=\"1.0\" encoding=\"utf-8\"?>\r\n",
      "<posts>\r\n",
      "  <row Id=\"4\" PostTypeId=\"1\" AcceptedAnswerId=\"7\" CreationDate=\"2008-07-31T21:42:52.667\" Score=\"630\" ViewCount=\"42817\" Body=\"&lt;p&gt;I want to use a track-bar to change a form's opacity.&lt;/p&gt;&#xA;&#xA;&lt;p&gt;This is my code:&lt;/p&gt;&#xA;&#xA;&lt;pre&gt;&lt;code&gt;decimal trans = trackBar1.Value / 5000;&#xA;this.Opacity = trans;&#xA;&lt;/code&gt;&lt;/pre&gt;&#xA;&#xA;&lt;p&gt;When I build the application, it gives the following error:&lt;/p&gt;&#xA;&#xA;&lt;blockquote&gt;&#xA;  &lt;p&gt;Cannot implicitly convert type &lt;code&gt;'decimal'&lt;/code&gt; to &lt;code&gt;'double'&lt;/code&gt;&lt;/p&gt;&#xA;&lt;/blockquote&gt;&#xA;&#xA;&lt;p&gt;I tried using &lt;code&gt;trans&lt;/code&gt; and &lt;code&gt;double&lt;/code&gt; but then the control doesn't work. This code worked fine in a past VB.NET project.&lt;/p&gt;&#xA;\" OwnerUserId=\"8\" LastEditorUserId=\"3641067\" LastEditorDisplayName=\"Rich B\" LastEditDate=\"2019-07-19T01:39:54.173\" LastActivityDate=\"2019-07-19T01:39:54.173\" Title=\"Convert Decimal to Double?\" Tags=\"&lt;c#&gt;&lt;floating-point&gt;&lt;type-conversion&gt;&lt;double&gt;&lt;decimal&gt;\" AnswerCount=\"13\" CommentCount=\"2\" FavoriteCount=\"48\" CommunityOwnedDate=\"2012-10-31T16:42:47.213\" />\r\n"
     ]
    }
   ],
   "source": [
    "!head -n 3 ./data/posts_sample.xml"
   ]
  },
  {
   "cell_type": "code",
   "execution_count": 17,
   "id": "da08bf0a",
   "metadata": {},
   "outputs": [],
   "source": [
    "df_posts_xml = spark_session.read.format(\"xml\").options(rowTag=\"row\").load('file:///home/workspace/data/posts_sample.xml')"
   ]
  },
  {
   "cell_type": "code",
   "execution_count": 18,
   "id": "17551735",
   "metadata": {},
   "outputs": [
    {
     "data": {
      "text/plain": [
       "Row(_AcceptedAnswerId=7, _AnswerCount=13, _Body=\"<p>I want to use a track-bar to change a form's opacity.</p>\\n\\n<p>This is my code:</p>\\n\\n<pre><code>decimal trans = trackBar1.Value / 5000;\\nthis.Opacity = trans;\\n</code></pre>\\n\\n<p>When I build the application, it gives the following error:</p>\\n\\n<blockquote>\\n  <p>Cannot implicitly convert type <code>'decimal'</code> to <code>'double'</code></p>\\n</blockquote>\\n\\n<p>I tried using <code>trans</code> and <code>double</code> but then the control doesn't work. This code worked fine in a past VB.NET project.</p>\\n\", _ClosedDate=None, _CommentCount=2, _CommunityOwnedDate=datetime.datetime(2012, 10, 31, 16, 42, 47, 213000), _CreationDate=datetime.datetime(2008, 7, 31, 21, 42, 52, 667000), _FavoriteCount=48, _Id=4, _LastActivityDate=datetime.datetime(2019, 7, 19, 1, 39, 54, 173000), _LastEditDate=datetime.datetime(2019, 7, 19, 1, 39, 54, 173000), _LastEditorDisplayName='Rich B', _LastEditorUserId=3641067, _OwnerDisplayName=None, _OwnerUserId=8, _ParentId=None, _PostTypeId=1, _Score=630, _Tags='<c#><floating-point><type-conversion><double><decimal>', _Title='Convert Decimal to Double?', _ViewCount=42817)"
      ]
     },
     "execution_count": 18,
     "metadata": {},
     "output_type": "execute_result"
    }
   ],
   "source": [
    "df_posts_xml.head()"
   ]
  },
  {
   "cell_type": "code",
   "execution_count": 19,
   "id": "598d8997",
   "metadata": {},
   "outputs": [],
   "source": [
    "def define_language(row):\n",
    "    language_tag = None\n",
    "    for lang in p_l_list:\n",
    "        if '<' + lang.lower() + '>' in row._Tags.lower():\n",
    "            language_tag = lang\n",
    "            break\n",
    "    if language_tag is None:\n",
    "        return None\n",
    "    return (row._Id, language_tag)"
   ]
  },
  {
   "cell_type": "code",
   "execution_count": 20,
   "id": "08950f1b",
   "metadata": {},
   "outputs": [],
   "source": [
    "def check_date_range(row, yearr):\n",
    "    left_border = datetime(year=yearr, month=1, day=1)\n",
    "    right_border = datetime(year=yearr, month=12, day=31)\n",
    "    created_date = row._CreationDate\n",
    "    return created_date >= left_border and created_date <= right_border"
   ]
  },
  {
   "cell_type": "markdown",
   "id": "ec658728",
   "metadata": {},
   "source": [
    "## Т.к. в задании указано, что необходимо выполнить построение данных с 2010 по 2019 годы, то сделаем это.\n",
    "<p>Для этого используем цикл for по требуемым годам (2010, 2019)</p>"
   ]
  },
  {
   "cell_type": "code",
   "execution_count": 23,
   "id": "315da045",
   "metadata": {},
   "outputs": [
    {
     "name": "stdout",
     "output_type": "stream",
     "text": [
      "+--------------------+--------------------+\n",
      "|Programming_Language|Num_of_posts_in_2010|\n",
      "+--------------------+--------------------+\n",
      "|                Java|                  52|\n",
      "|          JavaScript|                  44|\n",
      "|                 PHP|                  42|\n",
      "|              Python|                  25|\n",
      "|         Objective-C|                  22|\n",
      "|                   C|                  20|\n",
      "|                Ruby|                  11|\n",
      "|              Delphi|                   7|\n",
      "|                   R|                   3|\n",
      "|                Bash|                   3|\n",
      "|         AppleScript|                   3|\n",
      "|                Perl|                   3|\n",
      "|                  F#|                   2|\n",
      "|             Haskell|                   2|\n",
      "|               BASIC|                   1|\n",
      "|                  Go|                   1|\n",
      "|               Mouse|                   1|\n",
      "|               XPath|                   1|\n",
      "|        ActionScript|                   1|\n",
      "|              MATLAB|                   1|\n",
      "+--------------------+--------------------+\n",
      "only showing top 20 rows\n",
      "\n",
      "+--------------------+--------------------+\n",
      "|Programming_Language|Num_of_posts_in_2011|\n",
      "+--------------------+--------------------+\n",
      "|                 PHP|                  97|\n",
      "|                Java|                  92|\n",
      "|          JavaScript|                  82|\n",
      "|              Python|                  35|\n",
      "|         Objective-C|                  33|\n",
      "|                   C|                  24|\n",
      "|                Ruby|                  17|\n",
      "|              Delphi|                   8|\n",
      "|                Perl|                   8|\n",
      "|                Bash|                   7|\n",
      "|              MATLAB|                   5|\n",
      "|        ActionScript|                   4|\n",
      "|          ColdFusion|                   4|\n",
      "|                   R|                   3|\n",
      "|               Scala|                   3|\n",
      "|             Clojure|                   2|\n",
      "|                CUDA|                   2|\n",
      "|               FOCUS|                   1|\n",
      "|              Groovy|                   1|\n",
      "|                   D|                   1|\n",
      "+--------------------+--------------------+\n",
      "only showing top 20 rows\n",
      "\n",
      "+--------------------+--------------------+\n",
      "|Programming_Language|Num_of_posts_in_2012|\n",
      "+--------------------+--------------------+\n",
      "|                 PHP|                 136|\n",
      "|          JavaScript|                 129|\n",
      "|                Java|                 124|\n",
      "|              Python|                  65|\n",
      "|         Objective-C|                  45|\n",
      "|                   C|                  27|\n",
      "|                Ruby|                  25|\n",
      "|                Bash|                   9|\n",
      "|                   R|                   9|\n",
      "|              MATLAB|                   6|\n",
      "|                 Lua|                   6|\n",
      "|               Scala|                   6|\n",
      "|                Curl|                   4|\n",
      "|               XPath|                   4|\n",
      "|              Delphi|                   4|\n",
      "|        ActionScript|                   3|\n",
      "|                Perl|                   3|\n",
      "|             Haskell|                   3|\n",
      "|                  F#|                   2|\n",
      "|                 Tcl|                   2|\n",
      "+--------------------+--------------------+\n",
      "only showing top 20 rows\n",
      "\n",
      "+--------------------+--------------------+\n",
      "|Programming_Language|Num_of_posts_in_2013|\n",
      "+--------------------+--------------------+\n",
      "|          JavaScript|                 196|\n",
      "|                Java|                 191|\n",
      "|                 PHP|                 173|\n",
      "|              Python|                  87|\n",
      "|         Objective-C|                  40|\n",
      "|                   C|                  36|\n",
      "|                Ruby|                  30|\n",
      "|                   R|                  25|\n",
      "|                Bash|                  11|\n",
      "|               Scala|                  10|\n",
      "|                Perl|                   8|\n",
      "|              MATLAB|                   8|\n",
      "|              Delphi|                   7|\n",
      "|                  Go|                   6|\n",
      "|                  F#|                   6|\n",
      "|          PowerShell|                   6|\n",
      "|              Groovy|                   5|\n",
      "|                Curl|                   4|\n",
      "|                 AWK|                   4|\n",
      "|                 SAS|                   4|\n",
      "+--------------------+--------------------+\n",
      "only showing top 20 rows\n",
      "\n",
      "+--------------------+--------------------+\n",
      "|Programming_Language|Num_of_posts_in_2014|\n",
      "+--------------------+--------------------+\n",
      "|          JavaScript|                 235|\n",
      "|                Java|                 228|\n",
      "|                 PHP|                 154|\n",
      "|              Python|                 103|\n",
      "|                   C|                  52|\n",
      "|         Objective-C|                  49|\n",
      "|                   R|                  28|\n",
      "|                Ruby|                  20|\n",
      "|              MATLAB|                  16|\n",
      "|                Bash|                  13|\n",
      "|                Perl|                   9|\n",
      "|               Scala|                   7|\n",
      "|          PowerShell|                   7|\n",
      "|                 AWK|                   5|\n",
      "|              Delphi|                   5|\n",
      "|             Haskell|                   4|\n",
      "|                  F#|                   3|\n",
      "|               XPath|                   3|\n",
      "|                Curl|                   3|\n",
      "|                 Lua|                   3|\n",
      "+--------------------+--------------------+\n",
      "only showing top 20 rows\n",
      "\n",
      "+--------------------+--------------------+\n",
      "|Programming_Language|Num_of_posts_in_2015|\n",
      "+--------------------+--------------------+\n",
      "|          JavaScript|                 270|\n",
      "|                Java|                 208|\n",
      "|                 PHP|                 147|\n",
      "|              Python|                 119|\n",
      "|                   R|                  43|\n",
      "|                   C|                  38|\n",
      "|         Objective-C|                  30|\n",
      "|                Ruby|                  20|\n",
      "|              MATLAB|                  16|\n",
      "|               Scala|                  13|\n",
      "|                Bash|                  11|\n",
      "|              Delphi|                   6|\n",
      "|          PowerShell|                   6|\n",
      "|                 AWK|                   5|\n",
      "|                Perl|                   5|\n",
      "|               Julia|                   4|\n",
      "|                 SAS|                   4|\n",
      "|                  Go|                   3|\n",
      "|                Curl|                   3|\n",
      "|          ColdFusion|                   3|\n",
      "+--------------------+--------------------+\n",
      "only showing top 20 rows\n",
      "\n",
      "+--------------------+--------------------+\n",
      "|Programming_Language|Num_of_posts_in_2016|\n",
      "+--------------------+--------------------+\n",
      "|          JavaScript|                 271|\n",
      "|                Java|                 178|\n",
      "|              Python|                 140|\n",
      "|                 PHP|                 126|\n",
      "|                   R|                  50|\n",
      "|                   C|                  32|\n",
      "|                Ruby|                  21|\n",
      "|                Bash|                  16|\n",
      "|               Scala|                  16|\n",
      "|              MATLAB|                  15|\n",
      "|         Objective-C|                  12|\n",
      "|          PowerShell|                  11|\n",
      "|                  Go|                   9|\n",
      "|          TypeScript|                   8|\n",
      "|                 AWK|                   7|\n",
      "|                Curl|                   5|\n",
      "|                 Lua|                   4|\n",
      "|          ColdFusion|                   4|\n",
      "|             Haskell|                   4|\n",
      "|              Groovy|                   3|\n",
      "+--------------------+--------------------+\n",
      "only showing top 20 rows\n",
      "\n",
      "+--------------------+--------------------+\n",
      "|Programming_Language|Num_of_posts_in_2017|\n",
      "+--------------------+--------------------+\n",
      "|          JavaScript|                 244|\n",
      "|                Java|                 204|\n",
      "|              Python|                 185|\n",
      "|                 PHP|                 122|\n",
      "|                   R|                  53|\n",
      "|                   C|                  24|\n",
      "|         Objective-C|                  19|\n",
      "|                Ruby|                  16|\n",
      "|          TypeScript|                  14|\n",
      "|          PowerShell|                  14|\n",
      "|                Bash|                  13|\n",
      "|               Scala|                   9|\n",
      "|              MATLAB|                   7|\n",
      "|             Haskell|                   7|\n",
      "|                Perl|                   6|\n",
      "|                Curl|                   5|\n",
      "|                  Go|                   4|\n",
      "|                 AWK|                   4|\n",
      "|                  Io|                   4|\n",
      "|              Delphi|                   3|\n",
      "+--------------------+--------------------+\n",
      "only showing top 20 rows\n",
      "\n",
      "+--------------------+--------------------+\n",
      "|Programming_Language|Num_of_posts_in_2018|\n",
      "+--------------------+--------------------+\n",
      "|              Python|                 214|\n",
      "|          JavaScript|                 194|\n",
      "|                Java|                 145|\n",
      "|                 PHP|                  99|\n",
      "|                   R|                  63|\n",
      "|                   C|                  24|\n",
      "|               Scala|                  22|\n",
      "|          TypeScript|                  21|\n",
      "|          PowerShell|                  13|\n",
      "|                Bash|                  12|\n",
      "|                  Go|                  11|\n",
      "|         Objective-C|                  10|\n",
      "|                Ruby|                   9|\n",
      "|                Rust|                   6|\n",
      "|              Kotlin|                   6|\n",
      "|              MATLAB|                   5|\n",
      "|                Curl|                   4|\n",
      "|                Perl|                   4|\n",
      "|                 AWK|                   3|\n",
      "|               XPath|                   3|\n",
      "+--------------------+--------------------+\n",
      "only showing top 20 rows\n",
      "\n",
      "+--------------------+--------------------+\n",
      "|Programming_Language|Num_of_posts_in_2019|\n",
      "+--------------------+--------------------+\n",
      "|              Python|                 162|\n",
      "|          JavaScript|                 131|\n",
      "|                Java|                  95|\n",
      "|                 PHP|                  59|\n",
      "|                   R|                  36|\n",
      "|                   C|                  14|\n",
      "|                  Go|                   9|\n",
      "|              MATLAB|                   9|\n",
      "|                Dart|                   9|\n",
      "|                Bash|                   8|\n",
      "|                Ruby|                   8|\n",
      "|              Kotlin|                   8|\n",
      "|          PowerShell|                   8|\n",
      "|               Scala|                   6|\n",
      "|          TypeScript|                   6|\n",
      "|              Delphi|                   4|\n",
      "|                 AWK|                   4|\n",
      "|                Curl|                   3|\n",
      "|                  F#|                   3|\n",
      "|                Perl|                   3|\n",
      "+--------------------+--------------------+\n",
      "only showing top 20 rows\n",
      "\n"
     ]
    }
   ],
   "source": [
    "yearObj = {}\n",
    "for year in range(2010, 2020):    \n",
    "    yearObj[year] = df_posts_xml.rdd\\\n",
    "        .filter(lambda row: row._Tags is not None and check_date_range(row, year))\\\n",
    "        .map(define_language)\\\n",
    "        .filter(lambda row: row is not None)\\\n",
    "        .keyBy(lambda row: row[1])\\\n",
    "        .aggregateByKey(\n",
    "            0,\n",
    "            lambda acc, value: acc + 1,\n",
    "            lambda acc1, acc2: acc1 + acc2,\n",
    "        )\\\n",
    "        .sortBy(lambda row: row[1], ascending=False)\\\n",
    "        .toDF()\n",
    "    yearObj[year] = yearObj[year].select(col('_1').alias('Programming_Language'), col('_2').alias(f'Num_of_posts_in_{str(year)}'))\n",
    "    yearObj[year].show()"
   ]
  },
  {
   "cell_type": "markdown",
   "id": "985571e8",
   "metadata": {},
   "source": [
    "# Запись результатов\n",
    "<p>Запишем результаты так-же через цикл for</p>"
   ]
  },
  {
   "cell_type": "code",
   "execution_count": 27,
   "id": "add1297d",
   "metadata": {},
   "outputs": [
    {
     "name": "stdout",
     "output_type": "stream",
     "text": [
      "Top 10 Prog Languages in 2010\n",
      "+--------------------+\n",
      "|Programming_Language|\n",
      "+--------------------+\n",
      "|                Java|\n",
      "|          JavaScript|\n",
      "|                 PHP|\n",
      "|              Python|\n",
      "|         Objective-C|\n",
      "|                   C|\n",
      "|                Ruby|\n",
      "|              Delphi|\n",
      "|                Bash|\n",
      "|         AppleScript|\n",
      "+--------------------+\n",
      "\n",
      "Top 10 Prog Languages in 2011\n",
      "+--------------------+\n",
      "|Programming_Language|\n",
      "+--------------------+\n",
      "|                 PHP|\n",
      "|                Java|\n",
      "|          JavaScript|\n",
      "|              Python|\n",
      "|         Objective-C|\n",
      "|                   C|\n",
      "|                Ruby|\n",
      "|              Delphi|\n",
      "|                Perl|\n",
      "|                Bash|\n",
      "+--------------------+\n",
      "\n",
      "Top 10 Prog Languages in 2012\n",
      "+--------------------+\n",
      "|Programming_Language|\n",
      "+--------------------+\n",
      "|                 PHP|\n",
      "|          JavaScript|\n",
      "|                Java|\n",
      "|              Python|\n",
      "|         Objective-C|\n",
      "|                   C|\n",
      "|                Ruby|\n",
      "|                Bash|\n",
      "|                   R|\n",
      "|              MATLAB|\n",
      "+--------------------+\n",
      "\n",
      "Top 10 Prog Languages in 2013\n",
      "+--------------------+\n",
      "|Programming_Language|\n",
      "+--------------------+\n",
      "|          JavaScript|\n",
      "|                Java|\n",
      "|                 PHP|\n",
      "|              Python|\n",
      "|         Objective-C|\n",
      "|                   C|\n",
      "|                Ruby|\n",
      "|                   R|\n",
      "|                Bash|\n",
      "|               Scala|\n",
      "+--------------------+\n",
      "\n",
      "Top 10 Prog Languages in 2014\n",
      "+--------------------+\n",
      "|Programming_Language|\n",
      "+--------------------+\n",
      "|          JavaScript|\n",
      "|                Java|\n",
      "|                 PHP|\n",
      "|              Python|\n",
      "|                   C|\n",
      "|         Objective-C|\n",
      "|                   R|\n",
      "|                Ruby|\n",
      "|              MATLAB|\n",
      "|                Bash|\n",
      "+--------------------+\n",
      "\n",
      "Top 10 Prog Languages in 2015\n",
      "+--------------------+\n",
      "|Programming_Language|\n",
      "+--------------------+\n",
      "|          JavaScript|\n",
      "|                Java|\n",
      "|                 PHP|\n",
      "|              Python|\n",
      "|                   R|\n",
      "|                   C|\n",
      "|         Objective-C|\n",
      "|                Ruby|\n",
      "|              MATLAB|\n",
      "|               Scala|\n",
      "+--------------------+\n",
      "\n",
      "Top 10 Prog Languages in 2016\n",
      "+--------------------+\n",
      "|Programming_Language|\n",
      "+--------------------+\n",
      "|          JavaScript|\n",
      "|                Java|\n",
      "|              Python|\n",
      "|                 PHP|\n",
      "|                   R|\n",
      "|                   C|\n",
      "|                Ruby|\n",
      "|                Bash|\n",
      "|               Scala|\n",
      "|              MATLAB|\n",
      "+--------------------+\n",
      "\n",
      "Top 10 Prog Languages in 2017\n",
      "+--------------------+\n",
      "|Programming_Language|\n",
      "+--------------------+\n",
      "|          JavaScript|\n",
      "|                Java|\n",
      "|              Python|\n",
      "|                 PHP|\n",
      "|                   R|\n",
      "|                   C|\n",
      "|         Objective-C|\n",
      "|                Ruby|\n",
      "|          TypeScript|\n",
      "|          PowerShell|\n",
      "+--------------------+\n",
      "\n",
      "Top 10 Prog Languages in 2018\n",
      "+--------------------+\n",
      "|Programming_Language|\n",
      "+--------------------+\n",
      "|              Python|\n",
      "|          JavaScript|\n",
      "|                Java|\n",
      "|                 PHP|\n",
      "|                   R|\n",
      "|                   C|\n",
      "|               Scala|\n",
      "|          TypeScript|\n",
      "|          PowerShell|\n",
      "|                Bash|\n",
      "+--------------------+\n",
      "\n",
      "Top 10 Prog Languages in 2019\n",
      "+--------------------+\n",
      "|Programming_Language|\n",
      "+--------------------+\n",
      "|              Python|\n",
      "|          JavaScript|\n",
      "|                Java|\n",
      "|                 PHP|\n",
      "|                   R|\n",
      "|                   C|\n",
      "|              MATLAB|\n",
      "|                  Go|\n",
      "|                Dart|\n",
      "|              Kotlin|\n",
      "+--------------------+\n",
      "\n"
     ]
    }
   ],
   "source": [
    "arrayParqFiles = []\n",
    "for year in yearObj.keys():\n",
    "    yearObj[year].write.parquet(f\"/Leon_Result/Top_Lang_Progr_{year}.parquet\")\n",
    "    parquetFile = spark_session.read.parquet(f\"/Leon_Result/Top_Lang_Progr_{year}.parquet\")\n",
    "    parquetFile.createOrReplaceTempView(f\"parquetFile_{year}\")\n",
    "    arrayParqFiles.append(parquetFile)\n",
    "    print(f\"Top 10 Prog Languages in {year}\")\n",
    "    spark_session.sql(f\"SELECT Programming_Language FROM parquetFile_{year} ORDER BY Num_of_posts_in_{year} DESC LIMIT 10\").show()"
   ]
  },
  {
   "cell_type": "code",
   "execution_count": null,
   "id": "5e07eb6e",
   "metadata": {},
   "outputs": [],
   "source": []
  }
 ],
 "metadata": {
  "kernelspec": {
   "display_name": "Python 3",
   "language": "python",
   "name": "python3"
  },
  "language_info": {
   "codemirror_mode": {
    "name": "ipython",
    "version": 3
   },
   "file_extension": ".py",
   "mimetype": "text/x-python",
   "name": "python",
   "nbconvert_exporter": "python",
   "pygments_lexer": "ipython3",
   "version": "3.6.9"
  }
 },
 "nbformat": 4,
 "nbformat_minor": 5
}
